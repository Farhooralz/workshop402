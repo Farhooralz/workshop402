{
 "cells": [
  {
   "cell_type": "markdown",
   "id": "shaped-fitting",
   "metadata": {},
   "source": [
    "<div style=\"direction:ltr; color:blue; font-size:200%; text-align: center; font-weight: bold;\">\n",
    "\n",
    "<head> Workshop 2: Decision Making & Loops </head>\n",
    "    \n",
    "</div>"
   ]
  },
  {
   "cell_type": "markdown",
   "id": "informal-boulder",
   "metadata": {},
   "source": [
    "## \n",
    "<br>\n",
    "<div style=\"direction:rtl; color:blue; font-size:150%;\"> \n",
    "برنامه ای بنویسید که 5 عدد متوالی را از کاربر دریافت نموده و مشخص نماید ورودی کاربر زوج یا فرد است.\n",
    "</div>"
   ]
  },
  {
   "cell_type": "code",
   "execution_count": 1,
   "id": "2635c6f7",
   "metadata": {},
   "outputs": [
    {
     "name": "stdout",
     "output_type": "stream",
     "text": [
      "enter the first number: 7\n",
      "[7, 8, 9, 10, 11]\n",
      "odd\n",
      "even\n",
      "odd\n",
      "even\n",
      "odd\n"
     ]
    }
   ],
   "source": [
    "a =  int(input('enter the first number: '))\n",
    "b = list(range(a, a+5))\n",
    "print(b)\n",
    "for i in b:\n",
    "    if i % 2 == 0:\n",
    "        print('even')\n",
    "    else:\n",
    "        print('odd')"
   ]
  },
  {
   "cell_type": "markdown",
   "id": "further-tracker",
   "metadata": {},
   "source": [
    "## \n",
    "<br>\n",
    "<div style=\"direction:rtl; color:blue; font-size:150%;\"> \n",
    "برنامه ای بنویسید که از کاربر یک کلمه را دریافت نماید و مشخص کند کدامیک از کاراکترهای آن صدا دار و کدامیک بی صدا هستند. کاراکترهای صدا دار شامل e, a, i, o, u هستند\n",
    "</div>"
   ]
  },
  {
   "cell_type": "code",
   "execution_count": 2,
   "id": "128ebd34",
   "metadata": {},
   "outputs": [
    {
     "name": "stdout",
     "output_type": "stream",
     "text": [
      "enter a character: asemune abi\n",
      "seda dar\n",
      "bi seda\n",
      "seda dar\n",
      "bi seda\n",
      "seda dar\n",
      "bi seda\n",
      "seda dar\n",
      "bi seda\n",
      "seda dar\n",
      "bi seda\n",
      "seda dar\n"
     ]
    }
   ],
   "source": [
    "for character in input('enter a character: '):\n",
    "    if character.lower() in ['e', 'a', 'i', 'o', 'u']:\n",
    "        print('seda dar')\n",
    "    else:\n",
    "        print('bi seda')"
   ]
  },
  {
   "cell_type": "markdown",
   "id": "tough-burner",
   "metadata": {},
   "source": [
    "## \n",
    "<br>\n",
    "<div style=\"direction:rtl; color:blue; font-size:150%;\">\n",
    "برنامه ای بنویسید که مطابق جدول زیر شدت زلزه را توصیف نماید\n",
    "</div>\n",
    "\n",
    "<div>\n",
    "<br>\n",
    "<br>\n",
    "<img src=\"richter.png\" alt=\"Richter intensity\" width=\"500\" height=\"600\">\n",
    "</div>"
   ]
  },
  {
   "cell_type": "code",
   "execution_count": 3,
   "id": "a93d8bdb",
   "metadata": {},
   "outputs": [
    {
     "name": "stdout",
     "output_type": "stream",
     "text": [
      "Enter the earthquake intensity: 7.4\n",
      "it is major\n"
     ]
    }
   ],
   "source": [
    "e = float(input(\"Enter the earthquake intensity: \"))\n",
    "if e < 2.0:\n",
    "    print('it is micro')\n",
    "elif e > 2.0 and e < 3.0:\n",
    "    print('it is very minor')\n",
    "elif e > 3.0 and e < 4.0:\n",
    "    print('it is minor')\n",
    "elif e > 4.0 and e < 5.0:\n",
    "    print('it is light')\n",
    "elif e > 5.0 and e < 6.0:\n",
    "    print('it is moderate')\n",
    "elif e > 6.0 and e < 7.0:\n",
    "    print('it is strong')\n",
    "elif e > 7.0 and e < 8.0:\n",
    "    print('it is major')\n",
    "elif e > 8.0 and e < 10.0:\n",
    "    print('it is great')\n",
    "else:\n",
    "    print('it is meteoric')"
   ]
  },
  {
   "cell_type": "markdown",
   "id": "engaging-edmonton",
   "metadata": {},
   "source": [
    "## \n",
    "<br>\n",
    "<div style=\"direction:rtl; color:blue; font-size:150%;\">\n",
    "برنامه ای بنویسید که از کاربر تعدادی ورودی را دریافت نماید و دریافت ورودی از کاربر را تا زمان ورود کاراکتر e یا E ادامه دهد. سپس میانگین، ماکزیمم و مینیمم ورودی های کاربر را در خروجی نمایش دهد.\n",
    "</div>"
   ]
  },
  {
   "cell_type": "markdown",
   "id": "auburn-celebration",
   "metadata": {},
   "source": [
    "## \n",
    "<br>\n",
    "<div style=\"direction:rtl; color:blue; font-size:150%;\">\n",
    "برنامه ای بنویسید شامل ده سطر و دو ستون، ستون اول دارای هدر سلسیوس و ستون دوم دارای هدر فارنهایت باشد. در هر سطر معادل سلسیوس و فارنهایت ده عدد تصائفی بین 0 تا صد درجه را نمایش دهد.\n",
    "</div>"
   ]
  },
  {
   "cell_type": "markdown",
   "id": "intermediate-reality",
   "metadata": {},
   "source": [
    "## \n",
    "<br>\n",
    "<div style=\"direction:rtl; color:blue; font-size:150%;\">\n",
    "برنامه ای بنویسید که کاربر رشته های باینری 9 بیتی را وارد کند و برنامه بررسی کند که آیا رشته باینری وارد شده even parity هست یا نه؟ \n",
    "\n",
    "در رشته های باینری even parity تعداد یک ها باید زوج باشد در اینصورت بیت نهم رشته باینری به گونه ای تنظیم می شود که این زوج بودن تعداد یک ها حفظ شود\n",
    "\n",
    "</div>\n",
    "<div style=\"direction:ltr; color:green; font-size:150%;\">\n",
    "<br>\n",
    "<br>\n",
    "\"111010101\" -> True even parity\n",
    "<br>\n",
    "\"010001111\" -> False\n",
    "<br>\n",
    "\"110000010\" -> False\n",
    "</div>"
   ]
  },
  {
   "cell_type": "code",
   "execution_count": null,
   "id": "7857e488",
   "metadata": {},
   "outputs": [],
   "source": [
    "lst = []\n",
    "one = 0 \n",
    "for i in range(9):\n",
    "    a = int(input('enter your b'))\n",
    "    if a == 1:\n",
    "        one += 1\n",
    "if one % 2 == 0:\n",
    "    print('true even parity')\n",
    "else:\n",
    "    print('false')"
   ]
  },
  {
   "cell_type": "markdown",
   "id": "quantitative-bracelet",
   "metadata": {},
   "source": [
    "## \n",
    "<br>\n",
    "<div style=\"direction:rtl; color:blue; font-size:150%;\">\n",
    "  می دانیم که هر عدد هر عدد بزرگتر و مساوی یک را می توان به صورت حاصلضرب اعداد اول نوشت. برنامه ای بنویسید که از ورودی یک عدد صحیح بزگتر از یک را دریافت کرده و آن را به اعداد اول تجزیه کند\n",
    "\n",
    "</div>\n"
   ]
  },
  {
   "cell_type": "markdown",
   "id": "sapphire-update",
   "metadata": {},
   "source": [
    "## \n",
    "<br>\n",
    "<div style=\"direction:rtl; color:blue; font-size:150%;\">\n",
    "برنامه ای بنویسید که پرتاب یک سکه را شبیه سازی کند. برای پرتاب سکه از کاربر تعداد دفعات پرتاب پرسیده می شود و سپس رشته ای به طول خواسته شده با ترکیب حروف H, T تولید می شود. حرف H نشان گر Head و T نشانگر Tail است   \n",
    "</div>\n"
   ]
  },
  {
   "cell_type": "markdown",
   "id": "analyzed-rover",
   "metadata": {},
   "source": [
    "## \n",
    "<br>\n",
    "<div style=\"direction:rtl; color:blue; font-size:150%;\">\n",
    "برنامه ای بنویسید که از کاربر یک رشته را دریافت نموده و بگوید رشته ی ورودی پالیندروم هست یا خیر\n",
    "رشته پالیندروم رشته ای است که اگر کاراکترهای آن از چب به راست و یا راست به چپ خوانده شود رشته ای یکسان بدست بیاید\n",
    "</div>"
   ]
  },
  {
   "cell_type": "markdown",
   "id": "associate-jones",
   "metadata": {},
   "source": [
    "## \n",
    "<br>\n",
    "<div style=\"direction:rtl; color:blue; font-size:150%;\">\n",
    "شبه کد زیر را به کمک زبان پایتون پیاده سازی نمائید.\n",
    "در این روش شرط خاتمه حلقه را برابر abs(guess * guess - x) < 0.001 \n",
    "</div>\n",
    "<br>\n",
    "<div style=\"direction:ltr; color:green; font-size:150%;\">\n",
    "Read x from the user <br>\n",
    "Initialize guess to x/2 <br>\n",
    "While guess is not good enough do <br>\n",
    "Update guess to be the average of guess and x/guess\n",
    "</div>"
   ]
  },
  {
   "cell_type": "code",
   "execution_count": null,
   "id": "documentary-reproduction",
   "metadata": {},
   "outputs": [],
   "source": []
  }
 ],
 "metadata": {
  "kernelspec": {
   "display_name": "Python 3 (ipykernel)",
   "language": "python",
   "name": "python3"
  },
  "language_info": {
   "codemirror_mode": {
    "name": "ipython",
    "version": 3
   },
   "file_extension": ".py",
   "mimetype": "text/x-python",
   "name": "python",
   "nbconvert_exporter": "python",
   "pygments_lexer": "ipython3",
   "version": "3.9.7"
  },
  "toc": {
   "base_numbering": 1,
   "nav_menu": {},
   "number_sections": true,
   "sideBar": true,
   "skip_h1_title": false,
   "title_cell": "Table of Contents",
   "title_sidebar": "Contents",
   "toc_cell": false,
   "toc_position": {},
   "toc_section_display": true,
   "toc_window_display": false
  },
  "varInspector": {
   "cols": {
    "lenName": 16,
    "lenType": 16,
    "lenVar": 40
   },
   "kernels_config": {
    "python": {
     "delete_cmd_postfix": "",
     "delete_cmd_prefix": "del ",
     "library": "var_list.py",
     "varRefreshCmd": "print(var_dic_list())"
    },
    "r": {
     "delete_cmd_postfix": ") ",
     "delete_cmd_prefix": "rm(",
     "library": "var_list.r",
     "varRefreshCmd": "cat(var_dic_list()) "
    }
   },
   "types_to_exclude": [
    "module",
    "function",
    "builtin_function_or_method",
    "instance",
    "_Feature"
   ],
   "window_display": false
  }
 },
 "nbformat": 4,
 "nbformat_minor": 5
}
