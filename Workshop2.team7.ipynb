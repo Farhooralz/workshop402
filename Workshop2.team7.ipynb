{
 "cells": [
  {
   "cell_type": "markdown",
   "metadata": {},
   "source": [
    "<div style=\"direction:ltr; color:blue; font-size:200%; text-align: center; font-weight: bold;\">\n",
    "\n",
    "<head> Workshop 2: Decision Making & Loops </head>\n",
    "    \n",
    "</div>"
   ]
  },
  {
   "cell_type": "markdown",
   "metadata": {},
   "source": [
    "# \n",
    "<br>\n",
    "<div style=\"direction:rtl; color:blue; font-size:150%;\"> \n",
    "برنامه ای بنویسید که 5 عدد متوالی را از کاربر دریافت نموده و مشخص نماید ورودی کاربر زوج یا فرد است.\n",
    "</div>"
   ]
  },
  {
   "cell_type": "code",
   "execution_count": 56,
   "metadata": {},
   "outputs": [
    {
     "name": "stdout",
     "output_type": "stream",
     "text": [
      "Adad vared konid : 5\n",
      "Adad vared konid : 10\n",
      "Adad vared konid : 81\n",
      "Adad vared konid : 32\n",
      "Adad vared konid : 50\n",
      "a farde\n",
      "b zoje\n",
      "c farde\n",
      "d zoje\n",
      "e zoje\n"
     ]
    }
   ],
   "source": [
    "num_a = int(input(\"Adad vared konid : \"))\n",
    "num_b = int(input(\"Adad vared konid : \"))\n",
    "num_c = int(input(\"Adad vared konid : \"))\n",
    "num_d = int(input(\"Adad vared konid : \"))\n",
    "num_e = int(input(\"Adad vared konid : \"))\n",
    "if (num_a % 2) == 0:\n",
    "  print(\"a zoje\")\n",
    "else:\n",
    "  print(\"a farde\")  \n",
    "if (num_b % 2) == 0:\n",
    "  print(\"b zoje\")\n",
    "else:\n",
    "  print(\"b farde\")  \n",
    "if (num_c % 2) == 0:\n",
    "  print(\"c zoje\")\n",
    "else:\n",
    "  print(\"c farde\")  \n",
    "if (num_d % 2) == 0:\n",
    "  print(\"d zoje\")\n",
    "else:\n",
    "  print(\"d farde\")  \n",
    "if (num_e % 2) == 0:\n",
    "  print(\"e zoje\")\n",
    "else:\n",
    "  print(\"e farde\")"
   ]
  },
  {
   "cell_type": "markdown",
   "metadata": {},
   "source": [
    "## \n",
    "<br>\n",
    "<div style=\"direction:rtl; color:blue; font-size:150%;\"> \n",
    "برنامه ای بنویسید که از کاربر یک کلمه را دریافت نماید و مشخص کند کدامیک از کاراکترهای آن صدا دار و کدامیک بی صدا هستند. کاراکترهای صدا دار شامل e, a, i, o, u هستند\n",
    "</div>"
   ]
  },
  {
   "cell_type": "code",
   "execution_count": 2,
   "metadata": {},
   "outputs": [
    {
     "name": "stdout",
     "output_type": "stream",
     "text": [
      "Ye reshte vared konid : rdrrfcdreqwweqwasaasawaeaeaea\n",
      "e\n",
      "e\n",
      "a\n",
      "a\n",
      "a\n",
      "a\n",
      "a\n",
      "e\n",
      "a\n",
      "e\n",
      "a\n",
      "e\n",
      "a\n",
      "tedad horofe seda dar : 13\n",
      "r\n",
      "d\n",
      "r\n",
      "r\n",
      "f\n",
      "c\n",
      "d\n",
      "r\n",
      "q\n",
      "w\n",
      "w\n",
      "q\n",
      "w\n",
      "s\n",
      "s\n",
      "w\n",
      "tedad horofe B seda : 16\n"
     ]
    }
   ],
   "source": [
    "#-----------------------------------------------\n",
    "def Shomaresh_Seda_dar(str):\n",
    "    count = 0\n",
    "    Seda_dar = set(\"aeiouAEIOU\")\n",
    "    for alpha in str:\n",
    "        if alpha in Seda_dar:\n",
    "            count = count + 1\n",
    "            print(alpha)\n",
    "    print(\"tedad horofe seda dar :\", count)\n",
    "#------------------------------------------------\n",
    "def Shomaresh_B_Seda(str):\n",
    "    count = 0\n",
    "    bi_Seda = set(\"qwrtyplkjhgfdszxcvbnmQWETYPSDFGHJKLZXCVBNM\")\n",
    "    for bet in str:\n",
    "        if bet in bi_Seda:\n",
    "            count = count + 1\n",
    "            print(bet)\n",
    "    print(\"tedad horofe B seda :\", count)\n",
    "#------------------------------------------------\n",
    "str = input(\"Ye reshte vared konid : \")\n",
    "Shomaresh_Seda_dar(str)\n",
    "Shomaresh_B_Seda(str)\n"
   ]
  },
  {
   "cell_type": "markdown",
   "metadata": {},
   "source": [
    "## \n",
    "<br>\n",
    "<div style=\"direction:rtl; color:blue; font-size:150%;\">\n",
    "برنامه ای بنویسید که مطابق جدول زیر شدت زلزه را توصیف نماید\n",
    "</div>\n",
    "\n",
    "<div>\n",
    "<br>\n",
    "<br>\n",
    "<img src=\"richter.png\" alt=\"Richter intensity\" width=\"500\" height=\"600\">\n",
    "</div>"
   ]
  },
  {
   "cell_type": "code",
   "execution_count": 15,
   "metadata": {},
   "outputs": [
    {
     "name": "stdout",
     "output_type": "stream",
     "text": [
      "Chand rishter bode? : 5.1\n",
      "moderate\n"
     ]
    }
   ],
   "source": [
    "level_zelzele = float(input(\"Chand rishter bode? : \"))\n",
    "if level_zelzele <= 2:\n",
    "    print(\"micro\")\n",
    "elif level_zelzele <= 3:\n",
    "    print(\"very minor\")\n",
    "elif level_zelzele <= 4:\n",
    "    print(\"minor\")\n",
    "elif level_zelzele <= 5:\n",
    "    print(\"light\")\n",
    "elif level_zelzele <= 6:\n",
    "    print(\"moderate\")\n",
    "elif level_zelzele <= 7:\n",
    "    print(\"strong\")\n",
    "elif level_zelzele <= 8:\n",
    "    print(\"major\")\n",
    "else:\n",
    "    print(\"meteoric\")"
   ]
  },
  {
   "cell_type": "markdown",
   "metadata": {},
   "source": [
    "## \n",
    "<br>\n",
    "<div style=\"direction:rtl; color:blue; font-size:150%;\">\n",
    "برنامه ای بنویسید که از کاربر تعدادی ورودی را دریافت نماید و دریافت ورودی از کاربر را تا زمان ورود کاراکتر e یا E ادامه دهد. سپس میانگین، ماکزیمم و مینیمم ورودی های کاربر را در خروجی نمایش دهد.\n",
    "</div>"
   ]
  },
  {
   "cell_type": "code",
   "execution_count": 6,
   "metadata": {},
   "outputs": [
    {
     "name": "stdout",
     "output_type": "stream",
     "text": [
      "enter number : 50\n",
      "enter number : 2\n",
      "enter number : e\n",
      "average: 26.0, min: 2, max: 50\n"
     ]
    }
   ],
   "source": [
    "numbers = []\n",
    "while True:\n",
    "    number = input(\"enter number : \")\n",
    "    if number in ('e', 'E'):\n",
    "        break\n",
    "    numbers.append(int(number))\n",
    "    \n",
    "print(f\"average: {sum(numbers)/len(numbers)}, min: {min(numbers)}, max: {max(numbers)}\")"
   ]
  },
  {
   "cell_type": "markdown",
   "metadata": {},
   "source": [
    "## \n",
    "<br>\n",
    "<div style=\"direction:rtl; color:blue; font-size:150%;\">\n",
    "برنامه ای بنویسید شامل ده سطر و دو ستون، ستون اول دارای هدر سلسیوس و ستون دوم دارای هدر فارنهایت باشد. در هر سطر معادل سلسیوس و فارنهایت ده عدد تصائفی بین 0 تا صد درجه را نمایش دهد.\n",
    "</div>"
   ]
  },
  {
   "cell_type": "code",
   "execution_count": 41,
   "metadata": {},
   "outputs": [
    {
     "name": "stdout",
     "output_type": "stream",
     "text": [
      "s  f\n",
      "35 95.0\n",
      "49 120.2\n",
      "3 37.4\n",
      "93 199.4\n",
      "8 46.4\n",
      "16 60.8\n",
      "52 125.6\n",
      "51 123.8\n",
      "59 138.2\n",
      "75 167.0\n"
     ]
    }
   ],
   "source": [
    "list_temp = random.sample(range(0, 101), 10)\n",
    "print(\"s  f\")\n",
    "print(list_temp[0],(list_temp[0]*9/5)+ 32 )\n",
    "print(list_temp[1],(list_temp[1]*9/5)+ 32 )\n",
    "print(list_temp[2],(list_temp[2]*9/5)+ 32 )\n",
    "print(list_temp[3],(list_temp[3]*9/5)+ 32 )\n",
    "print(list_temp[4],(list_temp[4]*9/5)+ 32 )\n",
    "print(list_temp[5],(list_temp[5]*9/5)+ 32 )\n",
    "print(list_temp[6],(list_temp[6]*9/5)+ 32 )\n",
    "print(list_temp[7],(list_temp[7]*9/5)+ 32 )\n",
    "print(list_temp[8],(list_temp[8]*9/5)+ 32 )\n",
    "print(list_temp[9],(list_temp[9]*9/5)+ 32 )"
   ]
  },
  {
   "cell_type": "markdown",
   "metadata": {},
   "source": [
    "## \n",
    "<br>\n",
    "<div style=\"direction:rtl; color:blue; font-size:150%;\">\n",
    "برنامه ای بنویسید که کاربر رشته های باینری 9 بیتی را وارد کند و برنامه بررسی کند که آیا رشته باینری وارد شده even parity هست یا نه؟ \n",
    "\n",
    "در رشته های باینری even parity تعداد یک ها باید زوج باشد در اینصورت بیت نهم رشته باینری به گونه ای تنظیم می شود که این زوج بودن تعداد یک ها حفظ شود\n",
    "\n",
    "</div>\n",
    "<div style=\"direction:ltr; color:green; font-size:150%;\">\n",
    "<br>\n",
    "<br>\n",
    "\"111010101\" -> True even parity\n",
    "<br>\n",
    "\"010001111\" -> False\n",
    "<br>\n",
    "\"110000010\" -> False\n",
    "</div>"
   ]
  },
  {
   "cell_type": "code",
   "execution_count": 5,
   "metadata": {},
   "outputs": [
    {
     "name": "stdout",
     "output_type": "stream",
     "text": [
      "Parity of no  7  =  odd\n"
     ]
    }
   ],
   "source": []
  },
  {
   "cell_type": "markdown",
   "metadata": {},
   "source": [
    "## \n",
    "<br>\n",
    "<div style=\"direction:rtl; color:blue; font-size:150%;\">\n",
    "  می دانیم که هر عدد هر عدد بزرگتر و مساوی یک را می توان به صورت حاصلضرب اعداد اول نوشت. برنامه ای بنویسید که از ورودی یک عدد صحیح بزگتر از یک را دریافت کرده و آن را به اعداد اول تجزیه کند\n",
    "\n",
    "</div>\n"
   ]
  },
  {
   "cell_type": "code",
   "execution_count": 3,
   "metadata": {},
   "outputs": [
    {
     "ename": "SyntaxError",
     "evalue": "Missing parentheses in call to 'print'. Did you mean print(2, end=\" \")? (<ipython-input-3-22b6ec279e4a>, line 11)",
     "output_type": "error",
     "traceback": [
      "\u001b[1;36m  File \u001b[1;32m\"<ipython-input-3-22b6ec279e4a>\"\u001b[1;36m, line \u001b[1;32m11\u001b[0m\n\u001b[1;33m    print 2,\u001b[0m\n\u001b[1;37m          ^\u001b[0m\n\u001b[1;31mSyntaxError\u001b[0m\u001b[1;31m:\u001b[0m Missing parentheses in call to 'print'. Did you mean print(2, end=\" \")?\n"
     ]
    }
   ],
   "source": []
  },
  {
   "cell_type": "markdown",
   "metadata": {},
   "source": [
    "## \n",
    "<br>\n",
    "<div style=\"direction:rtl; color:blue; font-size:150%;\">\n",
    "برنامه ای بنویسید که پرتاب یک سکه را شبیه سازی کند. برای پرتاب سکه از کاربر تعداد دفعات پرتاب پرسیده می شود و سپس رشته ای به طول خواسته شده با ترکیب حروف H, T تولید می شود. حرف H نشان گر Head و T نشانگر Tail است   \n",
    "</div>\n"
   ]
  },
  {
   "cell_type": "code",
   "execution_count": 4,
   "metadata": {},
   "outputs": [
    {
     "ename": "NameError",
     "evalue": "name 'n' is not defined",
     "output_type": "error",
     "traceback": [
      "\u001b[1;31m---------------------------------------------------------------------------\u001b[0m",
      "\u001b[1;31mNameError\u001b[0m                                 Traceback (most recent call last)",
      "\u001b[1;32m<ipython-input-4-c4800383c300>\u001b[0m in \u001b[0;36m<module>\u001b[1;34m\u001b[0m\n\u001b[0;32m     12\u001b[0m     \u001b[0mC\u001b[0m \u001b[1;33m=\u001b[0m \u001b[1;34m\"H\"\u001b[0m\u001b[1;33m\u001b[0m\u001b[1;33m\u001b[0m\u001b[0m\n\u001b[0;32m     13\u001b[0m     \u001b[0mN\u001b[0m \u001b[1;33m=\u001b[0m \u001b[1;36m5\u001b[0m\u001b[1;33m\u001b[0m\u001b[1;33m\u001b[0m\u001b[0m\n\u001b[1;32m---> 14\u001b[1;33m     \u001b[0ml\u001b[0m \u001b[1;33m=\u001b[0m \u001b[0mcount_ht\u001b[0m\u001b[1;33m(\u001b[0m\u001b[0mC\u001b[0m\u001b[1;33m,\u001b[0m \u001b[0mn\u001b[0m\u001b[1;33m)\u001b[0m\u001b[1;33m\u001b[0m\u001b[1;33m\u001b[0m\u001b[0m\n\u001b[0m\u001b[0;32m     15\u001b[0m     \u001b[0mprint\u001b[0m\u001b[1;33m(\u001b[0m\u001b[1;34m\"Head = \"\u001b[0m\u001b[1;33m,\u001b[0m \u001b[0ml\u001b[0m\u001b[1;33m[\u001b[0m\u001b[1;36m0\u001b[0m\u001b[1;33m]\u001b[0m\u001b[1;33m)\u001b[0m\u001b[1;33m\u001b[0m\u001b[1;33m\u001b[0m\u001b[0m\n\u001b[0;32m     16\u001b[0m     \u001b[0mprint\u001b[0m\u001b[1;33m(\u001b[0m\u001b[1;34m\"Tail = \"\u001b[0m\u001b[1;33m,\u001b[0m \u001b[0ml\u001b[0m\u001b[1;33m[\u001b[0m\u001b[1;36m1\u001b[0m\u001b[1;33m]\u001b[0m\u001b[1;33m)\u001b[0m\u001b[1;33m\u001b[0m\u001b[1;33m\u001b[0m\u001b[0m\n",
      "\u001b[1;31mNameError\u001b[0m: name 'n' is not defined"
     ]
    }
   ],
   "source": []
  },
  {
   "cell_type": "markdown",
   "metadata": {},
   "source": [
    "## \n",
    "<br>\n",
    "<div style=\"direction:rtl; color:blue; font-size:150%;\">\n",
    "برنامه ای بنویسید که از کاربر یک رشته را دریافت نموده و بگوید رشته ی ورودی پالیندروم هست یا خیر\n",
    "رشته پالیندروم رشته ای است که اگر کاراکترهای آن از چب به راست و یا راست به چپ خوانده شود رشته ای یکسان بدست بیاید\n",
    "</div>"
   ]
  },
  {
   "cell_type": "code",
   "execution_count": 47,
   "metadata": {},
   "outputs": [
    {
     "name": "stdout",
     "output_type": "stream",
     "text": [
      "Enter a string:qwewq\n",
      "reshte mored nazar palindrome ast\n"
     ]
    }
   ],
   "source": [
    "reshte=input((\"Enter a string:\"))\n",
    "if(reshte==reshte[::-1]):\n",
    "      print(\"reshte mored nazar palindrome ast\")\n",
    "else:\n",
    "      print(\"reshte mored nazar palindrome nist\")"
   ]
  },
  {
   "cell_type": "markdown",
   "metadata": {},
   "source": [
    "## \n",
    "<br>\n",
    "<div style=\"direction:rtl; color:blue; font-size:150%;\">\n",
    "شبه کد زیر را به کمک زبان پایتون پیاده سازی نمائید.\n",
    "در این روش شرط خاتمه حلقه را برابر abs(guess * guess - x) < 0.001 \n",
    "</div>\n",
    "<br>\n",
    "<div style=\"direction:ltr; color:green; font-size:150%;\">\n",
    "Read x from the user <br>\n",
    "Initialize guess to x/2 <br>\n",
    "While guess is not good enough do <br>\n",
    "Update guess to be the average of guess and x/guess\n",
    "</div>"
   ]
  },
  {
   "cell_type": "code",
   "execution_count": null,
   "metadata": {},
   "outputs": [],
   "source": []
  }
 ],
 "metadata": {
  "kernelspec": {
   "display_name": "Python 3",
   "language": "python",
   "name": "python3"
  },
  "language_info": {
   "codemirror_mode": {
    "name": "ipython",
    "version": 3
   },
   "file_extension": ".py",
   "mimetype": "text/x-python",
   "name": "python",
   "nbconvert_exporter": "python",
   "pygments_lexer": "ipython3",
   "version": "3.7.6"
  },
  "toc": {
   "base_numbering": 1,
   "nav_menu": {},
   "number_sections": true,
   "sideBar": true,
   "skip_h1_title": false,
   "title_cell": "Table of Contents",
   "title_sidebar": "Contents",
   "toc_cell": false,
   "toc_position": {},
   "toc_section_display": true,
   "toc_window_display": false
  },
  "varInspector": {
   "cols": {
    "lenName": 16,
    "lenType": 16,
    "lenVar": 40
   },
   "kernels_config": {
    "python": {
     "delete_cmd_postfix": "",
     "delete_cmd_prefix": "del ",
     "library": "var_list.py",
     "varRefreshCmd": "print(var_dic_list())"
    },
    "r": {
     "delete_cmd_postfix": ") ",
     "delete_cmd_prefix": "rm(",
     "library": "var_list.r",
     "varRefreshCmd": "cat(var_dic_list()) "
    }
   },
   "types_to_exclude": [
    "module",
    "function",
    "builtin_function_or_method",
    "instance",
    "_Feature"
   ],
   "window_display": false
  }
 },
 "nbformat": 4,
 "nbformat_minor": 5
}
